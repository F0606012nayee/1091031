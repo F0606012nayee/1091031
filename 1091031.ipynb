{
  "nbformat": 4,
  "nbformat_minor": 0,
  "metadata": {
    "colab": {
      "name": "1091031.ipynb",
      "provenance": [],
      "authorship_tag": "ABX9TyOwtSlpmeKldQ15/n3RmlFr",
      "include_colab_link": true
    },
    "kernelspec": {
      "name": "python3",
      "display_name": "Python 3"
    }
  },
  "cells": [
    {
      "cell_type": "markdown",
      "metadata": {
        "id": "view-in-github",
        "colab_type": "text"
      },
      "source": [
        "<a href=\"https://colab.research.google.com/github/F0606012nayee/1091031/blob/main/1091031.ipynb\" target=\"_parent\"><img src=\"https://colab.research.google.com/assets/colab-badge.svg\" alt=\"Open In Colab\"/></a>"
      ]
    },
    {
      "cell_type": "code",
      "metadata": {
        "id": "c6wMvsCiW1Px",
        "outputId": "0248731c-5476-4951-b943-1c12dd96a543",
        "colab": {
          "base_uri": "https://localhost:8080/",
          "height": 52
        }
      },
      "source": [
        "print('Hello World!')\n",
        "\"\"\"\n",
        "131343\n",
        "5435\n",
        "431\n",
        "\"\"\""
      ],
      "execution_count": 2,
      "outputs": [
        {
          "output_type": "stream",
          "text": [
            "Hello World!\n"
          ],
          "name": "stdout"
        },
        {
          "output_type": "execute_result",
          "data": {
            "application/vnd.google.colaboratory.intrinsic+json": {
              "type": "string"
            },
            "text/plain": [
              "'\\n131343\\n5435\\n431\\n'"
            ]
          },
          "metadata": {
            "tags": []
          },
          "execution_count": 2
        }
      ]
    },
    {
      "cell_type": "code",
      "metadata": {
        "id": "F78b7hrHYnmQ",
        "outputId": "06ff42db-e764-4a0d-c730-5cb2206f6596",
        "colab": {
          "base_uri": "https://localhost:8080/"
        }
      },
      "source": [
        "x = 5\n",
        "y = 3\n",
        "print(x, y)\n",
        "a, b, c = 1,2,4\n",
        "print('a, b, c = ', a, b, c)\n",
        "A = 'aabab'\n",
        "B = 12\n",
        "print(A + str(B))"
      ],
      "execution_count": 7,
      "outputs": [
        {
          "output_type": "stream",
          "text": [
            "5 3\n",
            "a, b, c =  1 2 4\n",
            "aabab12\n"
          ],
          "name": "stdout"
        }
      ]
    },
    {
      "cell_type": "code",
      "metadata": {
        "id": "5bWh6ORfaqPz",
        "outputId": "8eca81bf-c123-4e69-b367-5c443fbd7c9c",
        "colab": {
          "base_uri": "https://localhost:8080/"
        }
      },
      "source": [
        "x = 3.4\n",
        "print(type(x))\n",
        "x = [1,2,3]\n",
        "print(type(x))\n",
        "x = (1,2,3)\n",
        "print(type(x))\n",
        "x = b\"hello\"\n",
        "print(type(x))\n",
        "a = list(range(0,6))\n",
        "print(a)\n",
        "b = bool(0)\n",
        "print(b)"
      ],
      "execution_count": 12,
      "outputs": [
        {
          "output_type": "stream",
          "text": [
            "<class 'float'>\n",
            "<class 'list'>\n",
            "<class 'tuple'>\n",
            "<class 'bytes'>\n",
            "[0, 1, 2, 3, 4, 5]\n",
            "False\n"
          ],
          "name": "stdout"
        }
      ]
    },
    {
      "cell_type": "code",
      "metadata": {
        "id": "9b-PwSGQf8aP",
        "outputId": "9d012410-3524-4d37-91e4-9823c4f872ee",
        "colab": {
          "base_uri": "https://localhost:8080/"
        }
      },
      "source": [
        "import random\n",
        "print(random.randrange(1,10))"
      ],
      "execution_count": 14,
      "outputs": [
        {
          "output_type": "stream",
          "text": [
            "7\n"
          ],
          "name": "stdout"
        }
      ]
    },
    {
      "cell_type": "code",
      "metadata": {
        "id": "Zk3jX75zgadX",
        "outputId": "a5ad96fc-ff07-4941-e829-499c449e10ae",
        "colab": {
          "base_uri": "https://localhost:8080/"
        }
      },
      "source": [
        "a = \"blue\"\n",
        "print(a[0:2])\n",
        "print(a[-3:-1])\n",
        "print(len(a))\n",
        "a = \"HELLO\".lower().replace('h','p')\n",
        "print(a)\n",
        "age = 11\n",
        "a = 'hi {} {}'\n",
        "print(a.format(age,age))\n",
        "c = 'hhhh \"214343\" rgrr'\n",
        "print(c)\n",
        "a = 5\n",
        "b = 3\n",
        "if a > b:\n",
        "  print('a>b')\n",
        "  print('ok')\n",
        "else:\n",
        "  print('a<b')\n",
        "  print('no')"
      ],
      "execution_count": 24,
      "outputs": [
        {
          "output_type": "stream",
          "text": [
            "bl\n",
            "lu\n",
            "4\n",
            "pello\n",
            "hi 11 11\n",
            "hhhh \"214343\" rgrr\n",
            "a>b\n",
            "ok\n"
          ],
          "name": "stdout"
        }
      ]
    },
    {
      "cell_type": "code",
      "metadata": {
        "id": "9Ckq1w-PkDiw",
        "outputId": "82cba4be-22a1-40ac-b67c-a06c9a70d9d9",
        "colab": {
          "base_uri": "https://localhost:8080/"
        }
      },
      "source": [
        "x = 20\n",
        "y = 3\n",
        "print(x ** y)\n",
        "print(x // y)\n",
        "y = x & 5\n",
        "print(y)"
      ],
      "execution_count": 28,
      "outputs": [
        {
          "output_type": "stream",
          "text": [
            "8000\n",
            "6\n",
            "4\n"
          ],
          "name": "stdout"
        }
      ]
    },
    {
      "cell_type": "code",
      "metadata": {
        "id": "VYCFtujplFHd",
        "outputId": "e9b20b90-480c-4c6e-d593-e966a58c0098",
        "colab": {
          "base_uri": "https://localhost:8080/"
        }
      },
      "source": [
        "a = ['a', 1, 'b', 2] #lsit\n",
        "print(a[0], a[1])\n",
        "b = ('a', 1, 'b', 2) #tuple\n",
        "print(b[2], b[3])\n",
        "a[2] = 4\n",
        "print(a)\n",
        "c = {'a',1,2,3,'a','b'} #set\n",
        "print(c)"
      ],
      "execution_count": 31,
      "outputs": [
        {
          "output_type": "stream",
          "text": [
            "a 1\n",
            "b 2\n",
            "['a', 1, 4, 2]\n",
            "{1, 'a', 3, 2, 'b'}\n"
          ],
          "name": "stdout"
        }
      ]
    },
    {
      "cell_type": "code",
      "metadata": {
        "id": "Nv5-gHncmseK",
        "outputId": "27c0ef47-4ec2-4f24-bc9f-b5af4299f554",
        "colab": {
          "base_uri": "https://localhost:8080/"
        }
      },
      "source": [
        "thislist = [\"apple\", \"banana\", \"cherry\", \"orange\", \"kiwi\", \"melon\", \"mango\"]\n",
        "print(thislist[2:5])\n",
        "for x in thislist:\n",
        "  print(x)\n",
        "thislist.append(\"eggs\")\n",
        "print(thislist)"
      ],
      "execution_count": 33,
      "outputs": [
        {
          "output_type": "stream",
          "text": [
            "['cherry', 'orange', 'kiwi']\n",
            "apple\n",
            "banana\n",
            "cherry\n",
            "orange\n",
            "kiwi\n",
            "melon\n",
            "mango\n",
            "['apple', 'banana', 'cherry', 'orange', 'kiwi', 'melon', 'mango', 'eggs']\n"
          ],
          "name": "stdout"
        }
      ]
    },
    {
      "cell_type": "code",
      "metadata": {
        "id": "as6RZkIRp935",
        "outputId": "b2ece96f-04c2-4e2d-8917-c29a03c3d567",
        "colab": {
          "base_uri": "https://localhost:8080/"
        }
      },
      "source": [
        "a = [0,1,2,\"2\",3,4,5] #list\n",
        "a.remove(2)\n",
        "print(a)\n",
        "del a[2]\n",
        "print(a)\n",
        "a = [1,2,3]\n",
        "b = [4,5,6]\n",
        "c = a + b\n",
        "print(c)"
      ],
      "execution_count": 36,
      "outputs": [
        {
          "output_type": "stream",
          "text": [
            "[0, 1, '2', 3, 4, 5]\n",
            "[0, 1, 3, 4, 5]\n",
            "[1, 2, 3, 4, 5, 6]\n"
          ],
          "name": "stdout"
        }
      ]
    },
    {
      "cell_type": "code",
      "metadata": {
        "id": "2kwr4OxQr6-6",
        "outputId": "57d71b94-50a9-4caa-e061-db980905a523",
        "colab": {
          "base_uri": "https://localhost:8080/"
        }
      },
      "source": [
        "a = (1,2,4,4) #tuple\n",
        "print(a.count(4))\n",
        "a = ('hello',)\n",
        "print(type(a))\n",
        "print(a[0])"
      ],
      "execution_count": 41,
      "outputs": [
        {
          "output_type": "stream",
          "text": [
            "2\n",
            "<class 'tuple'>\n",
            "hello\n"
          ],
          "name": "stdout"
        }
      ]
    },
    {
      "cell_type": "code",
      "metadata": {
        "id": "BnVH_a6MspSm",
        "outputId": "47c3a27b-fc8d-4e81-a6fc-a43271ccd9ba",
        "colab": {
          "base_uri": "https://localhost:8080/"
        }
      },
      "source": [
        "tuple1 = ('a', 'b', 'c')\n",
        "tuple2 = (1, 2, 3)\n",
        "tuple3 = tuple1 + tuple2\n",
        "print(tuple3)\n",
        "print(tuple3.index('c'))\n",
        "a = {'7',1,2,3,4,5}\n",
        "a.add(0)\n",
        "print(a)\n",
        "print(len(a))\n",
        "b = a.pop()\n",
        "print(b)"
      ],
      "execution_count": 46,
      "outputs": [
        {
          "output_type": "stream",
          "text": [
            "('a', 'b', 'c', 1, 2, 3)\n",
            "2\n",
            "{0, 1, 2, 3, 4, 5, '7'}\n",
            "7\n",
            "0\n"
          ],
          "name": "stdout"
        }
      ]
    },
    {
      "cell_type": "code",
      "metadata": {
        "id": "DJ_F1u0EuTHZ",
        "outputId": "1d159bcf-a96e-4ffb-b49b-0a34e627c878",
        "colab": {
          "base_uri": "https://localhost:8080/"
        }
      },
      "source": [
        "dict1 = {\n",
        "    'a':1,\n",
        "    'b':2,\n",
        "    3:'c',\n",
        "    4:'d'\n",
        "}\n",
        "print(dict1[3])\n",
        "print(dict1.get(4))\n",
        "print(type(dict1))\n",
        "dict1[5] = 'hello'\n",
        "print(dict1)\n",
        "for x in dict1:\n",
        "  print(x)\n",
        "for x in dict1.values():\n",
        "  print(x)\n",
        "for x,y in dict1.items():\n",
        "  print(x,y)\n",
        "if 'a' in dict1:\n",
        "  print('Yes')"
      ],
      "execution_count": 56,
      "outputs": [
        {
          "output_type": "stream",
          "text": [
            "c\n",
            "d\n",
            "<class 'dict'>\n",
            "{'a': 1, 'b': 2, 3: 'c', 4: 'd', 5: 'hello'}\n",
            "a\n",
            "b\n",
            "3\n",
            "4\n",
            "5\n",
            "1\n",
            "2\n",
            "c\n",
            "d\n",
            "hello\n",
            "a 1\n",
            "b 2\n",
            "3 c\n",
            "4 d\n",
            "5 hello\n",
            "Yes\n"
          ],
          "name": "stdout"
        }
      ]
    },
    {
      "cell_type": "code",
      "metadata": {
        "id": "37Qq4cCFxMT4",
        "outputId": "8ceb007e-6570-4671-d6fa-60ce1ba84fc4",
        "colab": {
          "base_uri": "https://localhost:8080/"
        }
      },
      "source": [
        "dict1 = {\n",
        "    'a':1,\n",
        "    'b':2,\n",
        "    3:'c',\n",
        "    4:'d'\n",
        "}\n",
        "c = dict1.popitem()\n",
        "print(c, dict1)\n",
        "c = dict1.popitem()\n",
        "print(c, dict1)\n",
        "dict1.clear()\n",
        "print(dict1)\n",
        "print(type(dict1))"
      ],
      "execution_count": 60,
      "outputs": [
        {
          "output_type": "stream",
          "text": [
            "(4, 'd') {'a': 1, 'b': 2, 3: 'c'}\n",
            "(3, 'c') {'a': 1, 'b': 2}\n",
            "{}\n",
            "<class 'dict'>\n"
          ],
          "name": "stdout"
        }
      ]
    },
    {
      "cell_type": "code",
      "metadata": {
        "id": "SFczeM1ZxT5N",
        "outputId": "682c1aeb-bba3-4a58-a8a0-b68ca627a8d7",
        "colab": {
          "base_uri": "https://localhost:8080/"
        }
      },
      "source": [
        "dict1 = {\n",
        "    'a':1,\n",
        "    'b':2,\n",
        "}\n",
        "dict2 = {\n",
        "    'c':dict1,\n",
        "    'd':dict1\n",
        "}\n",
        "dict3 = {\n",
        "    '1':dict1,\n",
        "    '2':dict2\n",
        "}\n",
        "print(dict3['1'])\n",
        "print(dict3['1']['a'])\n",
        "print(dict3['2'])\n",
        "print(dict3['2']['d'])"
      ],
      "execution_count": 68,
      "outputs": [
        {
          "output_type": "stream",
          "text": [
            "{'a': 1, 'b': 2}\n",
            "1\n",
            "{'c': {'a': 1, 'b': 2}, 'd': {'a': 1, 'b': 2}}\n",
            "{'a': 1, 'b': 2}\n"
          ],
          "name": "stdout"
        }
      ]
    },
    {
      "cell_type": "code",
      "metadata": {
        "id": "hyoQH-iXy1K5",
        "outputId": "76a178a1-0288-4237-eae8-fdde94901fa8",
        "colab": {
          "base_uri": "https://localhost:8080/"
        }
      },
      "source": [
        "a = 3\n",
        "b = 3\n",
        "if a > b:\n",
        "  print('>')\n",
        "elif a < b:print('<')\n",
        "else:print('=')\n"
      ],
      "execution_count": 70,
      "outputs": [
        {
          "output_type": "stream",
          "text": [
            "=\n"
          ],
          "name": "stdout"
        }
      ]
    },
    {
      "cell_type": "code",
      "metadata": {
        "id": "E6qIFMcqIfdY",
        "outputId": "5a060721-df64-4ff0-f8f9-6795d6a923ce",
        "colab": {
          "base_uri": "https://localhost:8080/"
        }
      },
      "source": [
        "i = 0\n",
        "while i < 6:\n",
        "  i += 1\n",
        "  #if i == 2: continue\n",
        "  print(i)\n",
        "  #if i == 3: break\n",
        "else:\n",
        "  print('>=6')"
      ],
      "execution_count": 74,
      "outputs": [
        {
          "output_type": "stream",
          "text": [
            "1\n",
            "2\n",
            "3\n",
            "4\n",
            "5\n",
            "6\n",
            ">=6\n"
          ],
          "name": "stdout"
        }
      ]
    },
    {
      "cell_type": "code",
      "metadata": {
        "id": "XzXotMMoJ2XI",
        "outputId": "ab5e211d-2c00-4f89-ca61-a280866bc841",
        "colab": {
          "base_uri": "https://localhost:8080/"
        }
      },
      "source": [
        "f = 'king'\n",
        "for x in f:\n",
        "  print(x)\n",
        "  if x == 'k': break\n",
        "\n",
        "for x in range(2,30,3):\n",
        "  print(x)\n",
        "sum = 0\n",
        "for x in range(1,100,2):\n",
        "  sum += x\n",
        "print(sum)"
      ],
      "execution_count": 78,
      "outputs": [
        {
          "output_type": "stream",
          "text": [
            "k\n",
            "2\n",
            "5\n",
            "8\n",
            "11\n",
            "14\n",
            "17\n",
            "20\n",
            "23\n",
            "26\n",
            "29\n",
            "2500\n"
          ],
          "name": "stdout"
        }
      ]
    },
    {
      "cell_type": "code",
      "metadata": {
        "id": "qWHwLjybKx53",
        "outputId": "dd43577a-b5bb-475b-a04b-9580acf3d258",
        "colab": {
          "base_uri": "https://localhost:8080/"
        }
      },
      "source": [
        "for x in range(6):\n",
        "  pass\n",
        "else:\n",
        "  print('OK')"
      ],
      "execution_count": 80,
      "outputs": [
        {
          "output_type": "stream",
          "text": [
            "OK\n"
          ],
          "name": "stdout"
        }
      ]
    },
    {
      "cell_type": "code",
      "metadata": {
        "id": "ZfSEX5iUL1Qu"
      },
      "source": [
        ""
      ],
      "execution_count": null,
      "outputs": []
    }
  ]
}